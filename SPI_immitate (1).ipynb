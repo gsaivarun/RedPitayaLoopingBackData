{
 "cells": [
  {
   "cell_type": "code",
   "execution_count": 5,
   "id": "8da18239-da22-41f6-8624-24e8005a7004",
   "metadata": {},
   "outputs": [
    {
     "name": "stdout",
     "output_type": "stream",
     "text": [
      "Check FPGA [OK].\n",
      "Overlay __del__ was activated.\n",
      "But since there are garbage collection ordering issues, this code is commented out.\n",
      "Binary: 1111000011110000\n",
      "1111000011110000\n",
      "0xf0f0\n"
     ]
    }
   ],
   "source": [
    "import time\n",
    "from rp_overlay import overlay\n",
    "Fpga = overlay()\n",
    "import rp\n",
    "rp.rp_Init()\n",
    "\n",
    "def Rp_DpinReset():\n",
    "    pass\n",
    "\n",
    "hex_data = 0xF0F0\n",
    "binary_string = format(hex_data, '016b')\n",
    "print(\"Binary:\", binary_string)\n",
    "\n",
    "CS = rp.RP_DIO2_N \n",
    "SCLK = rp.RP_DIO2_P\n",
    "MOSI = rp.RP_DIO1_N\n",
    "MISO = rp.RP_DIO1_P\n",
    "\n",
    "rp.rp_DpinSetDirection(CS, rp.RP_OUT)\n",
    "rp.rp_DpinSetDirection(SCLK, rp.RP_OUT)\n",
    "rp.rp_DpinSetDirection(MOSI, rp.RP_OUT)\n",
    "rp.rp_DpinSetDirection(MISO, rp.RP_IN)\n",
    "\n",
    "rp.rp_DpinSetState(CS, rp.RP_LOW)\n",
    "rp.rp_DpinSetState(SCLK, rp.RP_HIGH)\n",
    "\n",
    "received_bits = \"\"\n",
    "\n",
    "for i in range(16):\n",
    "    rp.rp_DpinSetState(MOSI, rp.RP_LOW if binary_string[i] == '0' else rp.RP_HIGH)\n",
    "    time.sleep(0.5) \n",
    "    rp.rp_DpinSetState(SCLK, rp.RP_LOW)\n",
    "   \n",
    "    received_bit = rp.rp_DpinGetState(MISO)[1]\n",
    "    received_bits += str(received_bit)\n",
    "    rp.rp_DpinSetState(SCLK, rp.RP_HIGH)\n",
    "    time.sleep(0.5)\n",
    "rp.rp_DpinSetState(CS, rp.RP_HIGH)\n",
    "\n",
    "\n",
    "print(received_bits)\n",
    "received_hex = hex(int(received_bits, 2))\n",
    "print(received_hex)\n"
   ]
  },
  {
   "cell_type": "code",
   "execution_count": null,
   "id": "cec8ce6a-5729-44ce-b748-05b0fdb75a2c",
   "metadata": {},
   "outputs": [],
   "source": []
  }
 ],
 "metadata": {
  "kernelspec": {
   "display_name": "Python 3 (RP api)",
   "language": "python",
   "name": "python3"
  },
  "language_info": {
   "codemirror_mode": {
    "name": "ipython",
    "version": 3
   },
   "file_extension": ".py",
   "mimetype": "text/x-python",
   "name": "python",
   "nbconvert_exporter": "python",
   "pygments_lexer": "ipython3",
   "version": "3.10.12"
  }
 },
 "nbformat": 4,
 "nbformat_minor": 5
}
